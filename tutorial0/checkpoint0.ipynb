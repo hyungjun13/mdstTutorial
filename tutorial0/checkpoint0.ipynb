{
 "cells": [
  {
   "cell_type": "markdown",
   "metadata": {
    "colab_type": "text",
    "id": "0a8IYAJUshu1"
   },
   "source": [
    "# Checkpoint 0 "
   ]
  },
  {
   "cell_type": "markdown",
   "metadata": {},
   "source": [
    "These exercises are a mix of Python and Pandas practice. Most should be no more than a few lines of code! "
   ]
  },
  {
   "cell_type": "code",
   "execution_count": 1,
   "metadata": {
    "colab": {},
    "colab_type": "code",
    "id": "Jo6wuTgkshu1"
   },
   "outputs": [],
   "source": [
    "# here is a Python list:\n",
    "\n",
    "a = [1, 2, 3, 4, 5, 6]\n"
   ]
  },
  {
   "cell_type": "code",
   "execution_count": 2,
   "id": "779d96b1",
   "metadata": {},
   "outputs": [
    {
     "name": "stdout",
     "output_type": "stream",
     "text": [
      "[4, 5, 6]\n"
     ]
    }
   ],
   "source": [
    "# get a list containing the last 3 elements of a\n",
    "# Yes, you can just type out [4, 5, 6] but we really want to see you demonstrate you know how to use list slicing in Python\n",
    "b = a[-3:]\n",
    "print(b)"
   ]
  },
  {
   "cell_type": "code",
   "execution_count": 3,
   "id": "b6a54def",
   "metadata": {},
   "outputs": [],
   "source": [
    "# create a list of numbers from 1 to 20\n",
    "c = list(range(1, 21))"
   ]
  },
  {
   "cell_type": "code",
   "execution_count": 4,
   "id": "487873ac",
   "metadata": {},
   "outputs": [
    {
     "name": "stdout",
     "output_type": "stream",
     "text": [
      "[2, 4, 6, 8, 10, 12, 14, 16, 18, 20]\n"
     ]
    }
   ],
   "source": [
    "# now get a list with only the even numbers between 1 and 100\n",
    "# you may or may not make use of the list you made in the last cell\n",
    "d = c[1::2]\n",
    "print(d)"
   ]
  },
  {
   "cell_type": "code",
   "execution_count": 5,
   "id": "3d4bb5dd",
   "metadata": {},
   "outputs": [],
   "source": [
    "# write a function that takes two numbers as arguments\n",
    "# and returns the first number divided by the second\n",
    "def divide_numbers(a, b):\n",
    "    return a / b"
   ]
  },
  {
   "cell_type": "code",
   "execution_count": 6,
   "id": "f55df04e",
   "metadata": {},
   "outputs": [
    {
     "name": "stdout",
     "output_type": "stream",
     "text": [
      "1\n",
      "2\n",
      "fizz\n",
      "4\n",
      "buzz\n",
      "fizz\n",
      "7\n",
      "8\n",
      "fizz\n",
      "buzz\n",
      "11\n",
      "fizz\n",
      "13\n",
      "14\n",
      "fizzbuzz\n",
      "16\n",
      "17\n",
      "fizz\n",
      "19\n",
      "buzz\n",
      "fizz\n",
      "22\n",
      "23\n",
      "fizz\n",
      "buzz\n",
      "26\n",
      "fizz\n",
      "28\n",
      "29\n",
      "fizzbuzz\n"
     ]
    }
   ],
   "source": [
    "# fizzbuzz\n",
    "# you will need to use both iteration and control flow \n",
    "# go through all numbers from 1 to 30 in order\n",
    "# if the number is a multiple of 3, print fizz\n",
    "# if the number is a multiple of 5, print buzz\n",
    "# if the number is a multiple of 3 and 5, print fizzbuzz and NOTHING ELSE\n",
    "# if the number is neither a multiple of 3 nor a multiple of 5, print the number\n",
    "for i in range(1, 31):\n",
    "    if i % 3 == 0 and i % 5 == 0:\n",
    "        print(\"fizzbuzz\")\n",
    "    elif i % 3 == 0:\n",
    "        print(\"fizz\")\n",
    "    elif i % 5 == 0:\n",
    "        print(\"buzz\")\n",
    "    else:\n",
    "        print(i)\n",
    "\n"
   ]
  },
  {
   "cell_type": "code",
   "execution_count": 7,
   "id": "78aace0b",
   "metadata": {},
   "outputs": [],
   "source": [
    "# create a dictionary that reflects the following menu pricing (taken from Ahmo's)\n",
    "# Gyro: $9 \n",
    "# Burger: $9\n",
    "# Greek Salad: $8\n",
    "# Philly Steak: $10\n",
    "menu = {\n",
    "    \"Gyro\": 9,\n",
    "    \"Burger\": 9,\n",
    "    \"Greek Salad\": 8,\n",
    "    \"Philly Steak\": 10\n",
    "}"
   ]
  },
  {
   "cell_type": "code",
   "execution_count": 11,
   "metadata": {
    "colab": {},
    "colab_type": "code",
    "id": "WzCQ5HOJshvA"
   },
   "outputs": [
    {
     "name": "stdout",
     "output_type": "stream",
     "text": [
      "            beverage_category                                    beverage  \\\n",
      "0                      coffee                               brewed coffee   \n",
      "1                      coffee                               brewed coffee   \n",
      "2                      coffee                               brewed coffee   \n",
      "3                      coffee                               brewed coffee   \n",
      "4     classic espresso drinks                                  caff latte   \n",
      "..                        ...                                         ...   \n",
      "237  frappuccino blended crme  strawberries  crme (without whipped cream)   \n",
      "238  frappuccino blended crme        vanilla bean (without whipped cream)   \n",
      "239  frappuccino blended crme        vanilla bean (without whipped cream)   \n",
      "240  frappuccino blended crme        vanilla bean (without whipped cream)   \n",
      "241  frappuccino blended crme        vanilla bean (without whipped cream)   \n",
      "\n",
      "          beverage_prep  calories  total fat  trans fat  saturated fat  \\\n",
      "0                 Short         3        0.1        0.0            0.0   \n",
      "1                  Tall         4        0.1        0.0            0.0   \n",
      "2                Grande         5        0.1        0.0            0.0   \n",
      "3                 Venti         5        0.1        0.0            0.0   \n",
      "4     Short Nonfat Milk        70        0.1        0.1            0.0   \n",
      "..                  ...       ...        ...        ...            ...   \n",
      "237             Soymilk       320        3.2        0.4            0.0   \n",
      "238    Tall Nonfat Milk       170        0.1        0.1            0.0   \n",
      "239          Whole Milk       200        3.5        2.0            0.1   \n",
      "240             Soymilk       180        1.5        0.2            0.0   \n",
      "241  Grande Nonfat Milk       240        0.1        0.1            0.0   \n",
      "\n",
      "     sodium  total carbohydrates  cholesterol  dietary fibre  sugars  protein  \\\n",
      "0         0                    5            0              0       0      0.3   \n",
      "1         0                   10            0              0       0      0.5   \n",
      "2         0                   10            0              0       0      1.0   \n",
      "3         0                   10            0              0       0      1.0   \n",
      "4         5                   75           10              0       9      6.0   \n",
      "..      ...                  ...          ...            ...     ...      ...   \n",
      "237       0                  250           67              1      64      5.0   \n",
      "238       0                  160           39              0      38      4.0   \n",
      "239      10                  160           39              0      38      3.0   \n",
      "240       0                  160           37              1      35      3.0   \n",
      "241       5                  230           56              0      55      5.0   \n",
      "\n",
      "     vitamin a  vitamin c  calcium  iron  caffeine  \n",
      "0            0          0        0   0.0     175.0  \n",
      "1            0          0        0   0.0     260.0  \n",
      "2            0          0        0   0.0     330.0  \n",
      "3            0          0        2   0.0     410.0  \n",
      "4           10          0       20   0.0      75.0  \n",
      "..         ...        ...      ...   ...       ...  \n",
      "237          6          8       20  10.0       0.0  \n",
      "238          6          0       10   0.0       0.0  \n",
      "239          6          0       10   0.0       0.0  \n",
      "240          4          0       10   6.0       0.0  \n",
      "241          8          0       15   0.0       0.0  \n",
      "\n",
      "[242 rows x 18 columns]\n"
     ]
    }
   ],
   "source": [
    "# load in the \"starbucks.csv\" dataset\n",
    "# refer to how we read the cereal.csv dataset in the tutorial\n",
    "import pandas as pd\n",
    "\n",
    "starbucks = pd.read_csv(\"../data/starbucks.csv\")\n",
    "print(starbucks)\n"
   ]
  },
  {
   "cell_type": "code",
   "execution_count": 15,
   "id": "ac0f0c12",
   "metadata": {},
   "outputs": [],
   "source": [
    "# select all rows with more than and including 400 calories\n",
    "high_calorie = starbucks[starbucks[\"calories\"] >= 400]"
   ]
  },
  {
   "cell_type": "code",
   "execution_count": 17,
   "id": "ee8f8241",
   "metadata": {},
   "outputs": [],
   "source": [
    "# select all rows whose vitamin c content is higher than the iron content\n",
    "high_vit_c = starbucks[starbucks[\"vitamin c\"] > starbucks[\"iron\"]]"
   ]
  },
  {
   "cell_type": "code",
   "execution_count": 18,
   "id": "d4de48bb",
   "metadata": {},
   "outputs": [],
   "source": [
    "# create a new column containing the caffeine per calories of each drink\n",
    "starbucks[\"caffeine per calorie\"] = starbucks[\"caffeine\"] / starbucks[\"calories\"]"
   ]
  },
  {
   "cell_type": "code",
   "execution_count": 20,
   "metadata": {
    "colab": {},
    "colab_type": "code",
    "id": "rIoxaSxHshvB"
   },
   "outputs": [
    {
     "name": "stdout",
     "output_type": "stream",
     "text": [
      "193.87190082644628\n"
     ]
    }
   ],
   "source": [
    "# what is the average calorie across all items?\n",
    "avgCal = starbucks[\"calories\"].mean()\n",
    "print(avgCal)"
   ]
  },
  {
   "cell_type": "code",
   "execution_count": 23,
   "metadata": {
    "colab": {},
    "colab_type": "code",
    "id": "ABX7i49FshvD"
   },
   "outputs": [
    {
     "name": "stdout",
     "output_type": "stream",
     "text": [
      "9\n"
     ]
    }
   ],
   "source": [
    "# how many different categories of beverages are there?\n",
    "catCount = starbucks[\"beverage_category\"].nunique()\n",
    "print(catCount)"
   ]
  },
  {
   "cell_type": "code",
   "execution_count": 25,
   "metadata": {
    "colab": {},
    "colab_type": "code",
    "id": "P9QatZAzshvE"
   },
   "outputs": [
    {
     "name": "stdout",
     "output_type": "stream",
     "text": [
      "beverage_category\n",
      "classic espresso drinks             140.172414\n",
      "coffee                                4.250000\n",
      "frappuccino blended coffee          276.944444\n",
      "frappuccino blended crme            233.076923\n",
      "frappuccino light blended coffee    162.500000\n",
      "shaken iced beverages               114.444444\n",
      "signature espresso drinks           250.000000\n",
      "smoothies                           282.222222\n",
      "tazo tea drinks                     177.307692\n",
      "Name: calories, dtype: float64\n"
     ]
    }
   ],
   "source": [
    "# what is the average # calories for each beverage category?\n",
    "catAvgCal = starbucks.groupby(\"beverage_category\")[\"calories\"].mean()\n",
    "print(catAvgCal)"
   ]
  },
  {
   "cell_type": "code",
   "execution_count": null,
   "id": "064c8186",
   "metadata": {},
   "outputs": [],
   "source": []
  }
 ],
 "metadata": {
  "kernelspec": {
   "display_name": "Python 3.9.0 64-bit",
   "language": "python",
   "name": "python3"
  },
  "language_info": {
   "codemirror_mode": {
    "name": "ipython",
    "version": 3
   },
   "file_extension": ".py",
   "mimetype": "text/x-python",
   "name": "python",
   "nbconvert_exporter": "python",
   "pygments_lexer": "ipython3",
   "version": "3.12.6"
  },
  "vscode": {
   "interpreter": {
    "hash": "6cf8df3ff69f85f626faf55c10df6fe2cb9d1236b4dc73844ee4dc01369c2c99"
   }
  }
 },
 "nbformat": 4,
 "nbformat_minor": 5
}
